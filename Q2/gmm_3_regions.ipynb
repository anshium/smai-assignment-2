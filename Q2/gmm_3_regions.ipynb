{
 "cells": [
  {
   "cell_type": "code",
   "execution_count": 1,
   "metadata": {},
   "outputs": [],
   "source": [
    "import numpy as np\n",
    "import nibabel as nib\n",
    "from tqdm import tqdm\n",
    "from sklearn.cluster import KMeans"
   ]
  },
  {
   "cell_type": "markdown",
   "metadata": {},
   "source": [
    "### Expectation Maximization Algorithm"
   ]
  },
  {
   "cell_type": "code",
   "execution_count": 2,
   "metadata": {},
   "outputs": [],
   "source": [
    "def gaussian_pdf_1d(x, mu, var):\n",
    "    return 1.0 / np.sqrt(2 * np.pi * var) * np.exp(-0.5 * ((x - mu)**2) / var)\n",
    "\n",
    "def E_step(X, means, variances, pis):\n",
    "    N = X.shape[0]\n",
    "    K = len(means)\n",
    "    pdfs = np.zeros((N, K))\n",
    "    for k in range(K):\n",
    "        pdfs[:, k] = gaussian_pdf_1d(X.flatten(), means[k], variances[k] + 1e-6)\n",
    "    weighted_pdfs = pdfs * pis\n",
    "    gamma = weighted_pdfs / weighted_pdfs.sum(axis=1, keepdims=True)\n",
    "    return gamma\n",
    "\n",
    "def M_step(X, gamma):\n",
    "    N = X.shape[0]\n",
    "    K = gamma.shape[1]\n",
    "    Nk = np.sum(gamma, axis=0)\n",
    "    means = np.sum(gamma * X, axis=0) / Nk\n",
    "    variances = []\n",
    "    for k in range(K):\n",
    "        diff = X.flatten() - means[k]\n",
    "        var_k = np.sum(gamma[:, k] * (diff**2)) / Nk[k]\n",
    "        variances.append(var_k)\n",
    "    pis = Nk / N\n",
    "    return means, variances, pis\n",
    "\n",
    "def gmm(X, K, iterations=100, tol=1e-4):\n",
    "    N = X.shape[0]\n",
    "    kmeans = KMeans(n_clusters=K).fit(X)\n",
    "    means = kmeans.cluster_centers_.flatten()\n",
    "    labels_km = kmeans.labels_\n",
    "    variances = []\n",
    "    pis = []\n",
    "    for k in range(K):\n",
    "        cluster_data = X[labels_km == k, 0]\n",
    "        if len(cluster_data) == 0:\n",
    "            variance = np.var(X)\n",
    "        else:\n",
    "            variance = np.var(cluster_data)\n",
    "        variances.append(variance)\n",
    "        pis.append(len(cluster_data) / float(N))\n",
    "    pis = np.array(pis)\n",
    "    \n",
    "    print(\"Initial pis:\", pis)\n",
    "    \n",
    "    log_likelihoods = []\n",
    "    for i in tqdm(range(iterations), desc=\"GMM iterations\"):\n",
    "        gamma = E_step(X, means, variances, pis)\n",
    "        means, variances, pis = M_step(X, gamma)\n",
    "        if i % 10 == 0:\n",
    "            print(\"Iteration\", i, \"pis:\", pis)\n",
    "\n",
    "        pdfs = np.zeros((N, K))\n",
    "        for k in range(K):\n",
    "            pdfs[:, k] = gaussian_pdf_1d(X.flatten(), means[k], variances[k] + 1e-6)\n",
    "        weighted_pdfs = pdfs * pis\n",
    "        ll = np.sum(np.log(np.sum(weighted_pdfs, axis=1)))\n",
    "        log_likelihoods.append(ll)\n",
    "        \n",
    "        if i > 0 and np.abs(ll - log_likelihoods[-2]) < tol:\n",
    "            break\n",
    "    return means, variances, pis, gamma, log_likelihoods"
   ]
  },
  {
   "cell_type": "markdown",
   "metadata": {},
   "source": [
    "### Data"
   ]
  },
  {
   "cell_type": "code",
   "execution_count": 3,
   "metadata": {},
   "outputs": [
    {
     "name": "stdout",
     "output_type": "stream",
     "text": [
      "Loaded brain image with shape: (182, 218, 182)\n"
     ]
    }
   ],
   "source": [
    "img_file = 'data/sald_031764_img.nii'\n",
    "img = nib.load(img_file)\n",
    "data = img.get_fdata()\n",
    "affine = img.affine\n",
    "header = img.header\n",
    "print(\"Loaded brain image with shape:\", data.shape)\n",
    "\n",
    "X = data.flatten()[:, np.newaxis]"
   ]
  },
  {
   "cell_type": "markdown",
   "metadata": {},
   "source": [
    "### GMM Segmentation"
   ]
  },
  {
   "cell_type": "code",
   "execution_count": 4,
   "metadata": {},
   "outputs": [
    {
     "name": "stdout",
     "output_type": "stream",
     "text": [
      "Initial pis: [0.74252794 0.11966184 0.13781022]\n"
     ]
    },
    {
     "name": "stderr",
     "output_type": "stream",
     "text": [
      "GMM iterations:   0%|          | 0/100 [00:00<?, ?it/s]"
     ]
    },
    {
     "name": "stdout",
     "output_type": "stream",
     "text": [
      "Iteration 0 pis: [0.7286403  0.14018895 0.13117075]\n"
     ]
    },
    {
     "name": "stderr",
     "output_type": "stream",
     "text": [
      "GMM iterations:  10%|█         | 10/100 [00:11<01:43,  1.15s/it]"
     ]
    },
    {
     "name": "stdout",
     "output_type": "stream",
     "text": [
      "Iteration 10 pis: [0.70599127 0.18784113 0.1061676 ]\n"
     ]
    },
    {
     "name": "stderr",
     "output_type": "stream",
     "text": [
      "GMM iterations:  20%|██        | 20/100 [00:22<01:29,  1.12s/it]"
     ]
    },
    {
     "name": "stdout",
     "output_type": "stream",
     "text": [
      "Iteration 20 pis: [0.70599133 0.20355646 0.09045222]\n"
     ]
    },
    {
     "name": "stderr",
     "output_type": "stream",
     "text": [
      "GMM iterations:  30%|███       | 30/100 [00:34<01:20,  1.15s/it]"
     ]
    },
    {
     "name": "stdout",
     "output_type": "stream",
     "text": [
      "Iteration 30 pis: [0.70599142 0.22987054 0.06413805]\n"
     ]
    },
    {
     "name": "stderr",
     "output_type": "stream",
     "text": [
      "GMM iterations:  40%|████      | 40/100 [00:46<01:14,  1.24s/it]"
     ]
    },
    {
     "name": "stdout",
     "output_type": "stream",
     "text": [
      "Iteration 40 pis: [0.70599144 0.24599572 0.04801285]\n"
     ]
    },
    {
     "name": "stderr",
     "output_type": "stream",
     "text": [
      "GMM iterations:  50%|█████     | 50/100 [00:59<01:03,  1.27s/it]"
     ]
    },
    {
     "name": "stdout",
     "output_type": "stream",
     "text": [
      "Iteration 50 pis: [0.70599144 0.24668005 0.0473285 ]\n"
     ]
    },
    {
     "name": "stderr",
     "output_type": "stream",
     "text": [
      "GMM iterations:  59%|█████▉    | 59/100 [01:11<00:49,  1.21s/it]\n"
     ]
    }
   ],
   "source": [
    "means, variances, pis, gamma, log_likelihoods = gmm(X, K=3, iterations=100)\n",
    "labels = np.argmax(gamma, axis=1)\n",
    "\n",
    "sorted_indices = np.argsort(means)\n",
    "mapping = {sorted_indices[0]: 0, sorted_indices[1]: 1, sorted_indices[2]: 2}\n",
    "\n",
    "gmm_labels = np.vectorize(lambda x: mapping[x])(labels)\n",
    "gmm_segmentation = gmm_labels.reshape(data.shape)\n",
    "\n",
    "prob_csf_file   = 'data/sald_031764_probmask_csf.nii'\n",
    "prob_gray_file  = 'data/sald_031764_probmask_graymatter.nii'\n",
    "prob_white_file = 'data/sald_031764_probmask_whitematter.nii'"
   ]
  },
  {
   "cell_type": "markdown",
   "metadata": {},
   "source": [
    "### Ground Truth"
   ]
  },
  {
   "cell_type": "code",
   "execution_count": 5,
   "metadata": {},
   "outputs": [],
   "source": [
    "prob_csf   = nib.load(prob_csf_file).get_fdata()\n",
    "prob_gray  = nib.load(prob_gray_file).get_fdata()\n",
    "prob_white = nib.load(prob_white_file).get_fdata()\n",
    "\n",
    "probs = np.stack([prob_csf, prob_gray, prob_white], axis=-1)\n",
    "gt_segmentation = np.argmax(probs, axis=-1)"
   ]
  },
  {
   "cell_type": "code",
   "execution_count": 6,
   "metadata": {},
   "outputs": [
    {
     "name": "stdout",
     "output_type": "stream",
     "text": [
      "Pointwise accuracy of the segmentation: 88.94%\n"
     ]
    }
   ],
   "source": [
    "accuracy = np.mean(gmm_segmentation == gt_segmentation) * 100\n",
    "print(\"Pointwise accuracy of the segmentation: {:.2f}%\".format(accuracy))"
   ]
  },
  {
   "cell_type": "markdown",
   "metadata": {},
   "source": [
    "### Saving and all"
   ]
  },
  {
   "cell_type": "code",
   "execution_count": 7,
   "metadata": {},
   "outputs": [],
   "source": [
    "gmm_seg_img = nib.Nifti1Image(gmm_segmentation.astype(np.int16), affine, header)\n",
    "gt_seg_img  = nib.Nifti1Image(gt_segmentation.astype(np.int16), affine, header)\n",
    "\n",
    "nib.save(gmm_seg_img, 'gmm_segmentation.nii')\n",
    "nib.save(gt_seg_img, 'ground_truth_segmentation.nii')"
   ]
  }
 ],
 "metadata": {
  "kernelspec": {
   "display_name": "smai",
   "language": "python",
   "name": "python3"
  },
  "language_info": {
   "codemirror_mode": {
    "name": "ipython",
    "version": 3
   },
   "file_extension": ".py",
   "mimetype": "text/x-python",
   "name": "python",
   "nbconvert_exporter": "python",
   "pygments_lexer": "ipython3",
   "version": "3.10.16"
  }
 },
 "nbformat": 4,
 "nbformat_minor": 2
}
